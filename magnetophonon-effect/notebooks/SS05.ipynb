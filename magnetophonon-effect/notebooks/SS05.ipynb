{
 "cells": [
  {
   "cell_type": "markdown",
   "metadata": {},
   "source": [
    "# SS05"
   ]
  },
  {
   "cell_type": "code",
   "execution_count": null,
   "metadata": {},
   "outputs": [],
   "source": [
    "import pandas as pd\n",
    "import numpy as np\n",
    "import matplotlib.pyplot as plt # read in the plotting library matplotlib and call it plt\n",
    "import statsmodels.api as sm # import stats package"
   ]
  },
  {
   "cell_type": "markdown",
   "metadata": {},
   "source": [
    "## 4.3.2 Resistivity & Low-field Hall Effect"
   ]
  },
  {
   "cell_type": "markdown",
   "metadata": {},
   "source": [
    "### Resistivity"
   ]
  },
  {
   "cell_type": "markdown",
   "metadata": {},
   "source": [
    "> Load dataset Vx dataset using 10mA and at T = 133K (V23_10mA_133K)"
   ]
  },
  {
   "cell_type": "code",
   "execution_count": null,
   "metadata": {
    "scrolled": true
   },
   "outputs": [],
   "source": [
    "## read in csv file and dropping inaccurate first two events\n",
    "\n",
    "df_V23_10mA_133K = pd.read_csv(\"./../data/V23_10mA_133K.dat\", \"\\t\").drop(index = [0,1])\n",
    "df_V23_10mA_133K"
   ]
  },
  {
   "cell_type": "code",
   "execution_count": null,
   "metadata": {},
   "outputs": [],
   "source": [
    "type(df_V23_10mA_133K[\"Calibrated Field (T)\"][2])"
   ]
  },
  {
   "cell_type": "code",
   "execution_count": null,
   "metadata": {},
   "outputs": [],
   "source": [
    "## change data types of loaded data from strings to floats\n",
    "\n",
    "df_V23_10mA_133K['Calibrated Field (T)'] = df_V23_10mA_133K['Calibrated Field (T)'].astype(float)\n",
    "df_V23_10mA_133K['Sample Voltage (V)'] = df_V23_10mA_133K['Sample Voltage (V)'].astype(float)\n",
    "df_V23_10mA_133K['Sample Current (A)'] = df_V23_10mA_133K['Sample Current (A)'].astype(float)\n",
    "df_V23_10mA_133K['Acquisition Time (s)'] = df_V23_10mA_133K['Acquisition Time (s)'].astype(float)"
   ]
  },
  {
   "cell_type": "code",
   "execution_count": null,
   "metadata": {},
   "outputs": [],
   "source": [
    "type(df_V23_10mA_133K[\"Calibrated Field (T)\"][2])"
   ]
  },
  {
   "cell_type": "code",
   "execution_count": null,
   "metadata": {},
   "outputs": [],
   "source": [
    "### drop range of values you don't want\n",
    "\n",
    "b1 = 20\n",
    "## b2 = \n",
    "b2 = len(df_V23_10mA_133K)\n",
    "\n",
    "\n",
    "df_V23_10mA_133K = df_V23_10mA_133K.drop(df_V23_10mA_133K.index[b1:b2])"
   ]
  },
  {
   "cell_type": "code",
   "execution_count": null,
   "metadata": {},
   "outputs": [],
   "source": [
    "### choose range of values in table used\n",
    "\n",
    "CF_V23_10mA_133K = df_V23_10mA_133K[\"Calibrated Field (T)\"].values\n",
    "SV_V23_10mA_133K = df_V23_10mA_133K[\"Sample Voltage (V)\"].values\n",
    "SC_V23_10mA_133K = df_V23_10mA_133K[\"Sample Current (A)\"].values"
   ]
  },
  {
   "cell_type": "code",
   "execution_count": null,
   "metadata": {},
   "outputs": [],
   "source": [
    "R_V23_10mA_133K = np.abs(SV_V23_10mA_133K / SC_V23_10mA_133K)"
   ]
  },
  {
   "cell_type": "code",
   "execution_count": null,
   "metadata": {},
   "outputs": [],
   "source": [
    "plt.plot(CF_V23_10mA_133K, R_V23_10mA_133K)\n",
    "plt.title('Resistance of n-InSB Crystal over a Range of Magnetic Fields')\n",
    "plt.xlabel('Calibrated Field (T)') # Plot a label on x axis of Xlabel on graph\n",
    "plt.ylabel('Resistance (Ohms)') # Plot a label on x axis of Xlabel on graph\n",
    "plt.show()"
   ]
  },
  {
   "cell_type": "code",
   "execution_count": null,
   "metadata": {},
   "outputs": [],
   "source": [
    "## add linear fit\n",
    "\n",
    "X = sm.add_constant(CF_V23_10mA_133K) # add a constant to fit\n",
    "results = sm.OLS(R_V23_10mA_133K, X).fit() # save results of fit\n",
    "print(results.summary()) # print results out to screen\n",
    "\n",
    "plt.plot(CF_V23_10mA_133K, results.params[0]+results.params[1]*CF_V23_10mA_133K, 'r' , label='fitted_line')\n",
    "plt.plot(CF_V23_10mA_133K, R_V23_10mA_133K)\n",
    "plt.title('Resistance of n-InSB Crystal over a Range of Magnetic Fields [V23_10mA_133K]')\n",
    "plt.xlabel('Calibrated Field (T)') # Plot a label on x axis of Xlabel on graph\n",
    "plt.ylabel('Resistance (Ohms)') # Plot a label on x axis of Xlabel on graph\n",
    "\n",
    "plt.show()\n",
    "# plot fitted line on graph"
   ]
  },
  {
   "cell_type": "code",
   "execution_count": null,
   "metadata": {},
   "outputs": [],
   "source": [
    "## resistivity calculation at B = 0\n",
    "\n",
    "## sample geometry\n",
    "w = 2*10**-3\n",
    "d = 4*10**-3\n",
    "h = 1.15*10**-3\n",
    "\n",
    "resistance = results.params[0]\n",
    "resistivity = resistance*h*w/d\n",
    "\n",
    "print(resistance)\n",
    "print(resistivity)"
   ]
  },
  {
   "cell_type": "markdown",
   "metadata": {},
   "source": [
    "### Low-field Hall Effect"
   ]
  },
  {
   "cell_type": "markdown",
   "metadata": {},
   "source": [
    "> Load dataset Vy dataset using 10mA and at T = 133K (V24_10mA_133K)"
   ]
  },
  {
   "cell_type": "code",
   "execution_count": null,
   "metadata": {},
   "outputs": [],
   "source": [
    "## read in csv file and dropping anomalous first few events\n",
    "\n",
    "df_V24_10mA_133K = pd.read_csv(\"./../data/V24_10mA_86K.dat\", \"\\t\").drop(index = [0,1,2, 3])\n",
    "df_V24_10mA_133K"
   ]
  },
  {
   "cell_type": "code",
   "execution_count": null,
   "metadata": {},
   "outputs": [],
   "source": [
    "## change data types of loaded data from strings to floats\n",
    "\n",
    "df_V24_10mA_133K['Calibrated Field (T)'] = df_V24_10mA_133K['Calibrated Field (T)'].astype(float)\n",
    "df_V24_10mA_133K['Sample Voltage (V)'] = df_V24_10mA_133K['Sample Voltage (V)'].astype(float)\n",
    "df_V24_10mA_133K['Sample Current (A)'] = df_V24_10mA_133K['Sample Current (A)'].astype(float)\n",
    "df_V24_10mA_133K['Acquisition Time (s)'] = df_V24_10mA_133K['Acquisition Time (s)'].astype(float)"
   ]
  },
  {
   "cell_type": "code",
   "execution_count": null,
   "metadata": {},
   "outputs": [],
   "source": [
    "### drop range of values you don't want\n",
    "\n",
    "c1 = 20\n",
    "## c1 = len(df_V24_10mA_133K)\n",
    "## c2 = \n",
    "c2 = len(df_V24_10mA_133K)\n",
    "\n",
    "\n",
    "df_V24_10mA_133K = df_V24_10mA_133K.drop(df_V24_10mA_133K.index[c1:c2])"
   ]
  },
  {
   "cell_type": "code",
   "execution_count": null,
   "metadata": {},
   "outputs": [],
   "source": [
    "### choose range of values in table used\n",
    "\n",
    "CF_V24_10mA_133K = df_V24_10mA_133K[\"Calibrated Field (T)\"].values\n",
    "SV_V24_10mA_133K = df_V24_10mA_133K[\"Sample Voltage (V)\"].values\n",
    "SC_V24_10mA_133K = df_V24_10mA_133K[\"Sample Current (A)\"].values"
   ]
  },
  {
   "cell_type": "code",
   "execution_count": null,
   "metadata": {},
   "outputs": [],
   "source": [
    "plt.plot(CF_V24_10mA_133K, SV_V24_10mA_133K)\n",
    "plt.title('Hall Voltage of n-InSB Crystal over a Range of Magnetic Fields')\n",
    "plt.xlabel('Calibrated Field (T)') # Plot a label on x axis of Xlabel on graph\n",
    "plt.ylabel('Resistance (Ohms)') # Plot a label on x axis of Xlabel on graph\n",
    "plt.show()"
   ]
  },
  {
   "cell_type": "code",
   "execution_count": null,
   "metadata": {},
   "outputs": [],
   "source": [
    "## add linear fit\n",
    "\n",
    "X = sm.add_constant(CF_V24_10mA_133K) # add a constant to fit\n",
    "results = sm.OLS(SV_V24_10mA_133K, X).fit() # save results of fit\n",
    "print(results.summary()) # print results out to screen\n",
    "\n",
    "plt.plot(CF_V24_10mA_133K, results.params[0]+results.params[1]*CF_V24_10mA_133K, 'r' , label='fitted_line')\n",
    "plt.plot(CF_V24_10mA_133K, SV_V24_10mA_133K)\n",
    "plt.title('Hall Voltage of n-InSB Crystal over a Range of Magnetic Fields [V24_10mA_133K]')\n",
    "plt.xlabel('Calibrated Field (T)') # Plot a label on x axis of Xlabel on graph\n",
    "plt.ylabel('Hall Voltage (V)') # Plot a label on x axis of Xlabel on graph\n",
    "\n",
    "plt.show()\n",
    "# plot fitted line on graph"
   ]
  },
  {
   "cell_type": "code",
   "execution_count": null,
   "metadata": {},
   "outputs": [],
   "source": [
    "## Number of charge carriers density and mobility of of the electrons\n",
    "e = 1.6*10**-19\n",
    "I = 10**-2\n",
    "\n",
    "grad = results.params[1]\n",
    "N = np.abs(I/(grad*e*h))\n",
    "mu = 1/(N*e*resistivity)\n",
    "print(N)\n",
    "print(mu)"
   ]
  },
  {
   "cell_type": "markdown",
   "metadata": {},
   "source": [
    "## 4.3.2 The Magnetophonon Effect"
   ]
  },
  {
   "cell_type": "markdown",
   "metadata": {},
   "source": [
    "### Polynomial Fit"
   ]
  },
  {
   "cell_type": "code",
   "execution_count": null,
   "metadata": {
    "scrolled": true
   },
   "outputs": [],
   "source": [
    "## read in csv file and dropping anomalous first few events\n",
    "\n",
    "df_V23_10mA_90K = pd.read_csv(\"./../data/V23_10mA_90K.dat\", \"\\t\").drop(index = range(0,60))\n",
    "df_V23_10mA_90K"
   ]
  },
  {
   "cell_type": "code",
   "execution_count": null,
   "metadata": {},
   "outputs": [],
   "source": [
    "## change data types of loaded data from strings to floats\n",
    "\n",
    "df_V23_10mA_90K['Calibrated Field (T)'] = df_V23_10mA_90K['Calibrated Field (T)'].astype(float)\n",
    "df_V23_10mA_90K['Sample Voltage (V)'] = df_V23_10mA_90K['Sample Voltage (V)'].astype(float)\n",
    "df_V23_10mA_90K['Sample Current (A)'] = df_V23_10mA_90K['Sample Current (A)'].astype(float)\n",
    "df_V23_10mA_90K['Acquisition Time (s)'] = df_V23_10mA_90K['Acquisition Time (s)'].astype(float)"
   ]
  },
  {
   "cell_type": "code",
   "execution_count": null,
   "metadata": {},
   "outputs": [],
   "source": [
    "### drop range of values you don't want\n",
    "\n",
    "d1 = 500\n",
    "## d1 = len(df_V23_10mA_90K)\n",
    "## d2 = \n",
    "d2 = len(df_V23_10mA_90K)\n",
    "\n",
    "df_V23_10mA_90K = df_V23_10mA_90K.drop(df_V23_10mA_90K.index[d1:d2])\n",
    "df_V23_10mA_90K"
   ]
  },
  {
   "cell_type": "code",
   "execution_count": null,
   "metadata": {},
   "outputs": [],
   "source": [
    "### choose range of values in table used\n",
    "\n",
    "CF_V23_10mA_90K = df_V23_10mA_90K[\"Calibrated Field (T)\"].values\n",
    "SV_V23_10mA_90K = df_V23_10mA_90K[\"Sample Voltage (V)\"].values\n",
    "SC_V23_10mA_90K = df_V23_10mA_90K[\"Sample Current (A)\"].values"
   ]
  },
  {
   "cell_type": "code",
   "execution_count": null,
   "metadata": {},
   "outputs": [],
   "source": [
    "R_V23_10mA_90K = np.abs(SV_V23_10mA_90K / SC_V23_10mA_90K)\n",
    "len(R_V23_10mA_90K)\n",
    "len(df_V23_10mA_90K)"
   ]
  },
  {
   "cell_type": "code",
   "execution_count": null,
   "metadata": {},
   "outputs": [],
   "source": [
    "plt.plot(CF_V23_10mA_90K, R_V23_10mA_90K)\n",
    "plt.title('Hall Voltage of n-InSB Crystal over a Range of Magnetic Fields')\n",
    "plt.xlabel('Calibrated Field (T)') # Plot a label on x axis of Xlabel on graph\n",
    "plt.ylabel('Resistance (Ohms)') # Plot a label on x axis of Xlabel on graph\n",
    "plt.show()"
   ]
  },
  {
   "cell_type": "code",
   "execution_count": null,
   "metadata": {},
   "outputs": [],
   "source": [
    "## fit a polynomial\n",
    "\n",
    "from scipy.optimize import curve_fit # import curve fitting package from scipy\n",
    "def func(x,a,b,c,d, e): # define the fitted function name\n",
    "    return a*x**4+b*x**3+c*x**2+d*x+e # define the form of the function\n",
    "\n",
    "popt,pcov=curve_fit(func,CF_V23_10mA_90K,R_V23_10mA_90K) # use the function to fit data\n",
    "\n",
    "# need to specify initial guessess A, B, C for fit\n",
    "a_fit=popt[0] # fitted slope is popt[0]\n",
    "b_fit=popt[1] # fitted exponential parameter is popt[1]\n",
    "c_fit=popt[2] # fitted intercept is popt[2]\n",
    "d_fit=popt[3] # fitted intercept is popt[3]\n",
    "e_fit=popt[4] # fitted intercept is popt[4]\n",
    "uncertainties=np.sqrt(pcov.diagonal()) # uncertainties are square root of\n",
    "# diagonal elements in covariance matrix"
   ]
  },
  {
   "cell_type": "code",
   "execution_count": null,
   "metadata": {},
   "outputs": [],
   "source": [
    "print(a_fit)\n",
    "print(b_fit)\n",
    "print(c_fit)\n",
    "print(d_fit)\n",
    "print(e_fit)"
   ]
  },
  {
   "cell_type": "code",
   "execution_count": null,
   "metadata": {},
   "outputs": [],
   "source": [
    "plt.plot(CF_V23_10mA_90K, R_V23_10mA_90K)\n",
    "plt.plot(CF_V23_10mA_90K, func(CF_V23_10mA_90K, *popt))\n",
    "plt.show()"
   ]
  },
  {
   "cell_type": "code",
   "execution_count": null,
   "metadata": {},
   "outputs": [],
   "source": [
    "R_resonance_V23_10mA_90K = R_V23_10mA_90K - func(CF_V23_10mA_90K, *popt)"
   ]
  },
  {
   "cell_type": "code",
   "execution_count": null,
   "metadata": {
    "scrolled": true
   },
   "outputs": [],
   "source": [
    "plt.plot(CF_V23_10mA_90K, R_resonance_V23_10mA_90K)\n",
    "plt.title('Change in Resistance between Polynomial Fit and Data against Magnetic Field [V23_10mA_90K]')\n",
    "plt.xlabel('Calibrated Field (T)') # Plot a label on x axis of Xlabel on graph\n",
    "plt.ylabel('Change in Resistance (Ohms)') # Plot a label on x axis of Xlabel on graph"
   ]
  },
  {
   "cell_type": "markdown",
   "metadata": {},
   "source": [
    "> Effective mass"
   ]
  },
  {
   "cell_type": "code",
   "execution_count": null,
   "metadata": {},
   "outputs": [],
   "source": [
    "## values taken from peaks of the graph\n",
    "\n",
    "B = np.array([0.53, 0.63, 0.79, 1.06])\n",
    "p = np.array([6, 5, 4, 3])\n",
    "\n",
    "B_recip = 1/B"
   ]
  },
  {
   "cell_type": "code",
   "execution_count": null,
   "metadata": {},
   "outputs": [],
   "source": [
    "plt.scatter(B_recip,p)"
   ]
  },
  {
   "cell_type": "code",
   "execution_count": null,
   "metadata": {
    "scrolled": true
   },
   "outputs": [],
   "source": [
    "## add linear fit\n",
    "\n",
    "X = sm.add_constant(B_recip) # add a constant to fit\n",
    "results2 = sm.OLS(p, X).fit() # save results of fit\n",
    "print(results2.summary()) # print results out to screen\n",
    "\n",
    "plt.plot(B_recip, results2.params[0]+results2.params[1]*B_recip, 'r' , label='fitted_line')\n",
    "plt.scatter(B_recip, p)\n",
    "plt.title('Index of Magnetophonon Resonance Peaks against Magnetic Field [V23_10mA_90K]')\n",
    "plt.xlabel('Calibrated Field (T)') # Plot a label on x axis of Xlabel on graph\n",
    "plt.ylabel('Resonance Peak') # Plot a label on x axis of Xlabel on graph\n",
    "\n",
    "plt.show()\n",
    "# plot fitted line on graph"
   ]
  },
  {
   "cell_type": "code",
   "execution_count": null,
   "metadata": {},
   "outputs": [],
   "source": [
    "### effective mass calculation\n",
    "e = 1.6*10**-19\n",
    "w_LO = 3.67*10**13\n",
    "m_e = 9.11*10**-31\n",
    "\n",
    "mu = 41.4\n",
    "\n",
    "grad = results2.params[1]\n",
    "m_eff = grad*e/w_LO\n",
    "m_eff_e = m_eff/m_e\n",
    "\n",
    "tau = mu*m_eff/e\n",
    "\n",
    "## when w*tau=1\n",
    "B_1 = m_eff/(e*tau)\n",
    "\n",
    "print(m_eff)\n",
    "print(m_eff_e)\n",
    "print(tau)\n",
    "print(B_1)"
   ]
  },
  {
   "cell_type": "markdown",
   "metadata": {},
   "source": [
    "### Second Derivative Method"
   ]
  },
  {
   "cell_type": "code",
   "execution_count": null,
   "metadata": {},
   "outputs": [],
   "source": [
    "x = CF_V23_10mA_90K\n",
    "y = R_V23_10mA_90K"
   ]
  },
  {
   "cell_type": "code",
   "execution_count": null,
   "metadata": {},
   "outputs": [],
   "source": [
    "def moving_average(a, n=3) :\n",
    "    ret = np.cumsum(a, dtype=float)\n",
    "    ret[n:] = ret[n:] - ret[:-n]\n",
    "    return ret[n - 1:] / n"
   ]
  },
  {
   "cell_type": "code",
   "execution_count": null,
   "metadata": {},
   "outputs": [],
   "source": [
    "x1 = moving_average(x, 16)\n",
    "y1 = moving_average(y, 16)"
   ]
  },
  {
   "cell_type": "code",
   "execution_count": null,
   "metadata": {},
   "outputs": [],
   "source": [
    "plt.plot(x1, y1)"
   ]
  },
  {
   "cell_type": "code",
   "execution_count": null,
   "metadata": {},
   "outputs": [],
   "source": [
    "dy=np.diff(y1,1)\n",
    "dx=np.diff(x1,1)\n",
    "yfirst=dy/dx\n",
    "xfirst=0.5*(x1[:-1]+x1[1:])\n",
    "dyfirst=np.diff(yfirst,1)\n",
    "dxfirst=np.diff(xfirst,1)\n",
    "ysecond=dyfirst/dxfirst\n",
    "xsecond=0.5*(xfirst[:-1]+xfirst[1:])"
   ]
  },
  {
   "cell_type": "code",
   "execution_count": null,
   "metadata": {},
   "outputs": [],
   "source": [
    "plt.plot(xsecond, -ysecond)\n",
    "plt.xlabel('Calibrated Field (T)') # Plot a label on x axis of Xlabel on graph\n",
    "plt.ylabel('Resistance') # Plot a label on x axis of Xlabel on graph"
   ]
  },
  {
   "cell_type": "code",
   "execution_count": null,
   "metadata": {},
   "outputs": [],
   "source": [
    "x2 = moving_average(xsecond, 16)\n",
    "y2 = moving_average(ysecond, 16)"
   ]
  },
  {
   "cell_type": "code",
   "execution_count": null,
   "metadata": {},
   "outputs": [],
   "source": [
    "plt.plot(x2, -y2)\n",
    "plt.title('Negative of Second Derivate against Magnetic Field [V23_10mA_90K]')\n",
    "plt.xlabel('Calibrated Field (T)') # Plot a label on x axis of Xlabel on graph\n",
    "plt.ylabel('Resistance') # Plot a label on x axis of Xlabel on graph"
   ]
  },
  {
   "cell_type": "markdown",
   "metadata": {},
   "source": [
    "## The optimum temperature for magnetophonon resonances"
   ]
  },
  {
   "cell_type": "markdown",
   "metadata": {},
   "source": [
    "> zz = 86, 90, 100, 110, 120, 133, 160, 190"
   ]
  },
  {
   "cell_type": "code",
   "execution_count": null,
   "metadata": {
    "scrolled": true
   },
   "outputs": [],
   "source": [
    "zz = [86, 90, 100, 110, 120, 133, 160, 190]\n",
    "\n",
    "\n",
    "for zz_i in zz:\n",
    "    zz_i = str(zz_i)\n",
    "    x = './../data/V23_10mA_'+zz_i+'K.dat'\n",
    "    \n",
    "    df_V23_10mA_zzK = pd.read_csv(x, \"\\t\").drop(index = [0]) ## .drop(index = range(0,60))\n",
    "\n",
    "    \n",
    "    \n",
    "    df_V23_10mA_zzK['Calibrated Field (T)'] = df_V23_10mA_zzK['Calibrated Field (T)'].astype(float)\n",
    "    df_V23_10mA_zzK['Sample Voltage (V)'] = df_V23_10mA_zzK['Sample Voltage (V)'].astype(float)\n",
    "    df_V23_10mA_zzK['Sample Current (A)'] = df_V23_10mA_zzK['Sample Current (A)'].astype(float)\n",
    "    df_V23_10mA_zzK['Acquisition Time (s)'] = df_V23_10mA_zzK['Acquisition Time (s)'].astype(float)\n",
    "    \n",
    "\n",
    "    \n",
    "    ### drop range of values you don't want\n",
    "    for i in range(len(df_V23_10mA_zzK)):\n",
    "        a = df_V23_10mA_zzK['Calibrated Field (T)'][i+1]\n",
    "        a = float(a)\n",
    "        if a>1.17:\n",
    "            upper_zz = i\n",
    "            break\n",
    "\n",
    "    e1 = upper_zz\n",
    "    ## e1 = len(df_V23_10mA_zzK)\n",
    "    ## e2 = \n",
    "    e2 = len(df_V23_10mA_zzK)\n",
    "    df_V23_10mA_zzK = df_V23_10mA_zzK.drop(df_V23_10mA_zzK.index[e1:e2])\n",
    "    \n",
    "    \n",
    "    \n",
    "    \n",
    "    for i in range(len(df_V23_10mA_zzK)):\n",
    "        i = int(i)\n",
    "        a = df_V23_10mA_zzK['Calibrated Field (T)'][i+1]\n",
    "        a = float(a)\n",
    "        if a<0.2:\n",
    "            df_V23_10mA_zzK = df_V23_10mA_zzK.drop([i+1])\n",
    "    \n",
    "    \n",
    "\n",
    "    \n",
    "    ### choose range of values in table used\n",
    "\n",
    "    CF_V23_10mA_zzK = df_V23_10mA_zzK[\"Calibrated Field (T)\"].values\n",
    "    SV_V23_10mA_zzK = df_V23_10mA_zzK[\"Sample Voltage (V)\"].values\n",
    "    SC_V23_10mA_zzK = df_V23_10mA_zzK[\"Sample Current (A)\"].values\n",
    "    \n",
    "    \n",
    "    R_V23_10mA_zzK = np.abs(SV_V23_10mA_zzK / SC_V23_10mA_zzK)\n",
    "    \n",
    "    \n",
    "    poptzz,pcovzz=curve_fit(func,CF_V23_10mA_zzK,R_V23_10mA_zzK) # use the function to fit data\n",
    "\n",
    "    # need to specify initial guessess A, B, C for fit\n",
    "    azz_fit=poptzz[0] # fitted slope is popt[0]\n",
    "    bzz_fit=poptzz[1] # fitted exponential parameter is popt[1]\n",
    "    czz_fit=poptzz[2] # fitted intercept is popt[2]\n",
    "    dzz_fit=poptzz[3] # fitted intercept is popt[3]\n",
    "    ezz_fit=poptzz[4] # fitted intercept is popt[4]\n",
    "    \n",
    "    R_resonance_V23_10mA_zzK = R_V23_10mA_zzK - func(CF_V23_10mA_zzK, *poptzz)\n",
    "    \n",
    "    \n",
    "    CF_mov = moving_average(CF_V23_10mA_zzK, 8)\n",
    "    R_mov = moving_average(R_resonance_V23_10mA_zzK, 8)\n",
    "    \n",
    "    \n",
    "    ## plt.plot(CF_V23_10mA_zzK, R_resonance_V23_10mA_zzK)\n",
    "    \n",
    "    plt.plot(CF_mov, R_mov)\n",
    "    \n",
    "\n",
    "plt.xlim(0.4,1.17)\n",
    "plt.title('Change in Resistance between Polynomial Fit and Data at Varying Temperatures')\n",
    "plt.xlabel('Calibrated Field (T)') # Plot a label on x axis of Xlabel on graph\n",
    "plt.ylabel('Change in Resistance (Ohms)') # Plot a label on x axis of Xlabel on graph\n",
    "##plt.legend(labels = zz, title = 'Temperature (K)', loc = 2, fontsize ='small')\n",
    "\n",
    "plt.show()"
   ]
  },
  {
   "cell_type": "code",
   "execution_count": null,
   "metadata": {},
   "outputs": [],
   "source": [
    "p = np.array([5, 4, 3])\n",
    "## p = np.array([6, 5, 4, 3])\n",
    "\n",
    "## B_86K = np.array([0.65, 0.8, 1.06])\n",
    "### B_86K = np.array([0.545, 0.65, 0.8, 1.06])\n",
    "##B_100K = np.array([0.545, 0.645, 0.795, 1.045])\n",
    "## B_100K = np.array([0.645, 0.795, 1.045])\n",
    "##B_120K = np.array([0.54, 0.64, 0.795, 1.03])\n",
    "## B_120K = np.array([0.64, 0.795, 1.03])\n",
    "## B_133K = np.array([0.64, 0.795, 1.06])\n",
    "\n",
    "B_86K = np.array([0.655, 0.8, 1.06])\n",
    "B_100K = np.array([0.65, 0.798, 1.05])\n",
    "B_120K = np.array([0.644, 0.795, 1.04])\n",
    "B_133K = np.array([0.642, 0.792, 1.038])\n",
    "B_160K = np.array([0.64, 0.785, 1.035])\n",
    "\n",
    "B_86K_recip = 1/B_86K\n",
    "B_100K_recip = 1/B_100K\n",
    "B_120K_recip = 1/B_120K\n",
    "B_133K_recip = 1/B_133K\n",
    "B_160K_recip = 1/B_160K"
   ]
  },
  {
   "cell_type": "code",
   "execution_count": null,
   "metadata": {},
   "outputs": [],
   "source": [
    "zz = [B_86K_recip, B_100K_recip, B_120K_recip, B_133K_recip, B_160K_recip]\n",
    "\n",
    "m_eff_temp = []\n",
    "## results3.append(results3.params)\n",
    "\n",
    "for zz_i in zz:\n",
    "    X = sm.add_constant(zz_i) # add a constant to fit\n",
    "    results3 = sm.OLS(p, X).fit() # save results of fit\n",
    "    print(results3.summary()) # print results out to screen\n",
    "\n",
    "    plt.plot(zz_i, results3.params[0]+results3.params[1]*zz_i, 'r' , label='fitted_line')\n",
    "    plt.scatter(zz_i, p)\n",
    "    plt.title('Index of Magnetophonon Resonance Peaks against Magnetic Field [V23_10mA_90K]')\n",
    "    plt.xlabel('Calibrated Field (T)') # Plot a label on x axis of Xlabel on graph\n",
    "    plt.ylabel('Resonance Peak') # Plot a label on x axis of Xlabel on graph\n",
    "\n",
    "    \n",
    "    ### effective mass calculation\n",
    "    e = 1.6*10**-19\n",
    "    w_LO = 3.67*10**13\n",
    "    m_e = 9.11*10**-31\n",
    "\n",
    "    grad = results3.params[1]\n",
    "    m_eff = grad*e/w_LO\n",
    "    m_eff_e = m_eff/m_e\n",
    "\n",
    "    print(m_eff_e)\n",
    "    \n",
    "    m_eff_temp.append(m_eff_e)\n",
    "\n",
    "\n",
    "plt.show()\n",
    "# plot fitted line on graph"
   ]
  },
  {
   "cell_type": "code",
   "execution_count": null,
   "metadata": {},
   "outputs": [],
   "source": [
    "temp= [86, 100, 120, 133, 160]\n",
    "plt.plot(temp, m_eff_temp)\n",
    "plt.title('Effective Mass at Varying Temperatures')\n",
    "plt.xlabel('Temperature (K)') # Plot a label on x axis of Xlabel on graph\n",
    "plt.ylabel('Effective Mass (Electron Mass)') # Plot a label on x axis of Xlabel on graph"
   ]
  },
  {
   "cell_type": "markdown",
   "metadata": {},
   "source": [
    "## Effect of Changing Current"
   ]
  },
  {
   "cell_type": "code",
   "execution_count": null,
   "metadata": {},
   "outputs": [],
   "source": [
    "zz = [1, 2, 5, 10]\n",
    "\n",
    "for zz_i in zz:\n",
    "    zz_i = str(zz_i)\n",
    "    x = './../data/V23_'+zz_i+'mA_90K.dat'\n",
    "    \n",
    "    df_V23_10mA_zzK = pd.read_csv(x, \"\\t\").drop(index = [0]) ## .drop(index = range(0,60))\n",
    "\n",
    "    \n",
    "    \n",
    "    df_V23_10mA_zzK['Calibrated Field (T)'] = df_V23_10mA_zzK['Calibrated Field (T)'].astype(float)\n",
    "    df_V23_10mA_zzK['Sample Voltage (V)'] = df_V23_10mA_zzK['Sample Voltage (V)'].astype(float)\n",
    "    df_V23_10mA_zzK['Sample Current (A)'] = df_V23_10mA_zzK['Sample Current (A)'].astype(float)\n",
    "    df_V23_10mA_zzK['Acquisition Time (s)'] = df_V23_10mA_zzK['Acquisition Time (s)'].astype(float)\n",
    "    \n",
    "    ### drop range of values you don't want\n",
    "    for i in range(len(df_V23_10mA_zzK)):\n",
    "        a = df_V23_10mA_zzK['Calibrated Field (T)'][i+1]\n",
    "        a = float(a)\n",
    "        if a>1.17:\n",
    "            upper_zz = i\n",
    "            break\n",
    "\n",
    "    e1 = upper_zz\n",
    "    ## e1 = len(df_V23_10mA_zzK)\n",
    "    ## e2 = \n",
    "    e2 = len(df_V23_10mA_zzK)\n",
    "    df_V23_10mA_zzK = df_V23_10mA_zzK.drop(df_V23_10mA_zzK.index[e1:e2])\n",
    "    \n",
    "    \n",
    "    \n",
    "    \n",
    "    for i in range(len(df_V23_10mA_zzK)):\n",
    "        i = int(i)\n",
    "        a = df_V23_10mA_zzK['Calibrated Field (T)'][i+1]\n",
    "        a = float(a)\n",
    "        if a<0.2:\n",
    "            df_V23_10mA_zzK = df_V23_10mA_zzK.drop([i+1])\n",
    "    \n",
    "    \n",
    "\n",
    "    \n",
    "    ### choose range of values in table used\n",
    "\n",
    "    CF_V23_10mA_zzK = df_V23_10mA_zzK[\"Calibrated Field (T)\"].values\n",
    "    SV_V23_10mA_zzK = df_V23_10mA_zzK[\"Sample Voltage (V)\"].values\n",
    "    SC_V23_10mA_zzK = df_V23_10mA_zzK[\"Sample Current (A)\"].values\n",
    "    \n",
    "    \n",
    "    R_V23_10mA_zzK = np.abs(SV_V23_10mA_zzK / SC_V23_10mA_zzK)\n",
    "    \n",
    "    \n",
    "    poptzz,pcovzz=curve_fit(func,CF_V23_10mA_zzK,R_V23_10mA_zzK) # use the function to fit data\n",
    "\n",
    "    # need to specify initial guessess A, B, C for fit\n",
    "    azz_fit=poptzz[0] # fitted slope is popt[0]\n",
    "    bzz_fit=poptzz[1] # fitted exponential parameter is popt[1]\n",
    "    czz_fit=poptzz[2] # fitted intercept is popt[2]\n",
    "    dzz_fit=poptzz[3] # fitted intercept is popt[3]\n",
    "    ezz_fit=poptzz[4] # fitted intercept is popt[4]\n",
    "    \n",
    "    R_resonance_V23_10mA_zzK = R_V23_10mA_zzK - func(CF_V23_10mA_zzK, *poptzz)\n",
    "    \n",
    "    \n",
    "    CF_mov = moving_average(CF_V23_10mA_zzK, 8)\n",
    "    R_mov = moving_average(R_resonance_V23_10mA_zzK, 8)\n",
    "    \n",
    "    \n",
    "    ## plt.plot(CF_V23_10mA_zzK, R_resonance_V23_10mA_zzK)\n",
    "    \n",
    "    plt.plot(CF_mov, R_mov)\n",
    "\n",
    "    \n",
    "\n",
    "plt.xlim(0.4,1.17)\n",
    "plt.title('Change in Resistance between Polynomial Fit and Data at Varying Currents at T=90K')\n",
    "plt.xlabel('Calibrated Field (T)') # Plot a label on x axis of Xlabel on graph\n",
    "plt.ylabel('Change in Resistance (Ohms)') # Plot a label on x axis of Xlabel on graph\n",
    "plt.legend(labels = zz, title = 'Current (mA)', loc = 2, fontsize ='small')\n",
    "\n",
    "plt.show()"
   ]
  },
  {
   "cell_type": "code",
   "execution_count": null,
   "metadata": {},
   "outputs": [],
   "source": []
  }
 ],
 "metadata": {
  "kernelspec": {
   "display_name": "Python 3",
   "language": "python",
   "name": "python3"
  },
  "language_info": {
   "codemirror_mode": {
    "name": "ipython",
    "version": 3
   },
   "file_extension": ".py",
   "mimetype": "text/x-python",
   "name": "python",
   "nbconvert_exporter": "python",
   "pygments_lexer": "ipython3",
   "version": "3.7.6"
  }
 },
 "nbformat": 4,
 "nbformat_minor": 4
}
