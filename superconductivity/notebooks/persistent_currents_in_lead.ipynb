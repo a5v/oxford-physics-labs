{
 "cells": [
  {
   "cell_type": "markdown",
   "metadata": {},
   "source": [
    "# 4.3 Persistent Currents in Lead"
   ]
  },
  {
   "cell_type": "code",
   "execution_count": 1,
   "metadata": {},
   "outputs": [],
   "source": [
    "import os\n",
    "import pandas as pd\n",
    "import numpy as np\n",
    "import matplotlib.pyplot as plt\n",
    "import statsmodels.api as sm # import stats package"
   ]
  },
  {
   "cell_type": "markdown",
   "metadata": {},
   "source": [
    "## Pressure to Temperature Converter"
   ]
  },
  {
   "cell_type": "code",
   "execution_count": 2,
   "metadata": {},
   "outputs": [],
   "source": [
    "def pressure2temp(p_mbar): ## converts pressure of helium in mbar to temperature in K\n",
    "    x = np.log10(p_mbar) ##note that log10() is used as opposed to log()\n",
    "    T = 1.24177 + 0.23793*(x) + 0.36207*(x**2) - 0.33188*(x**3) + 0.20738*(x**4) - 0.05294*(x**5) + 0.00552*(x**6)\n",
    "    return T"
   ]
  },
  {
   "cell_type": "markdown",
   "metadata": {},
   "source": [
    "## Persistent Currents in Lead"
   ]
  },
  {
   "cell_type": "code",
   "execution_count": 3,
   "metadata": {},
   "outputs": [],
   "source": [
    "##Probe C characteristics\n",
    "d = 17*10**(-3)\n",
    "L = 31.5*10**(-3)\n",
    "\n",
    "\n",
    "mu = 4* np.pi *10 ** (-7)\n",
    "\n",
    "d = 5*10**(-8) ##penetration depth"
   ]
  },
  {
   "cell_type": "markdown",
   "metadata": {},
   "source": [
    "### Probe C 1.34K"
   ]
  },
  {
   "cell_type": "code",
   "execution_count": 4,
   "metadata": {},
   "outputs": [],
   "source": [
    "ProbeC_1p34K = pd.read_csv(\"./../data/persistent_currents_in_lead/ProbeC_1.34K.dat\", \"\\t\")\n",
    "ProbeC_1p34K = ProbeC_1p34K.drop(ProbeC_1p34K.index[0])"
   ]
  },
  {
   "cell_type": "code",
   "execution_count": 5,
   "metadata": {},
   "outputs": [],
   "source": [
    "##ProbeC_1p34K"
   ]
  },
  {
   "cell_type": "code",
   "execution_count": 6,
   "metadata": {},
   "outputs": [],
   "source": [
    "shv_1p34K = ProbeC_1p34K['Shunt Voltage (V)'].values.astype(float)\n",
    "sv_1p34K = ProbeC_1p34K['Sample Voltage (V)'].values.astype(float)\n",
    "isv_1p34K = ProbeC_1p34K['Integrated Sample Voltage (V)'].values.astype(float)"
   ]
  },
  {
   "cell_type": "code",
   "execution_count": 7,
   "metadata": {},
   "outputs": [],
   "source": [
    "v_per_a = 0.5\n",
    "tesla_per_a = 0.018\n",
    "current = 1.002\n",
    "\n",
    "\n",
    "shv_1p34K = np.array(shv_1p34K)\n",
    "sv_1p34K = np.array(sv_1p34K)\n",
    "b_1p34K = (shv_1p34K/v_per_a)*tesla_per_a\n",
    "r_1p34K = sv_1p34K/current"
   ]
  },
  {
   "cell_type": "code",
   "execution_count": 8,
   "metadata": {},
   "outputs": [],
   "source": [
    "# plt.plot(shv_1p34K, isv_1p34K)\n",
    "# plt.title('Integrated Sample Voltage against Sample Voltage')\n",
    "# plt.xlabel('Shunt Voltage (V)') # Plot a label on x axis of Xlabel on graph\n",
    "# plt.ylabel('Integrated Sample Voltage (V)') # Plot a label on x axis of Xlabel on graph\n",
    "\n",
    "# plt.show()"
   ]
  },
  {
   "cell_type": "code",
   "execution_count": 9,
   "metadata": {},
   "outputs": [
    {
     "data": {
      "image/png": "[encoded data removed]",
      "text/plain": [
       "<Figure size 432x288 with 1 Axes>"
      ]
     },
     "metadata": {
      "needs_background": "light"
     },
     "output_type": "display_data"
    }
   ],
   "source": [
    "plt.plot(b_1p34K, isv_1p34K)\n",
    "plt.title('Integrated Sample Voltage against Flux Density')\n",
    "plt.xlabel('Flux Density (T)') # Plot a label on x axis of Xlabel on graph\n",
    "plt.ylabel('Integrated Sample Voltage (V)') # Plot a label on x axis of Xlabel on graph\n",
    "\n",
    "plt.show()"
   ]
  },
  {
   "cell_type": "code",
   "execution_count": 10,
   "metadata": {},
   "outputs": [],
   "source": [
    "Bc_1p34K = 0.085"
   ]
  },
  {
   "cell_type": "code",
   "execution_count": 11,
   "metadata": {},
   "outputs": [
    {
     "name": "stdout",
     "output_type": "stream",
     "text": [
      "1352817016281.1104\n"
     ]
    }
   ],
   "source": [
    "I_1p34K = (L*Bc_1p34K)/mu\n",
    "J_1p34K = I_1p34K/(d*L)\n",
    "print(J_1p34K)"
   ]
  },
  {
   "cell_type": "code",
   "execution_count": null,
   "metadata": {},
   "outputs": [],
   "source": []
  },
  {
   "cell_type": "code",
   "execution_count": null,
   "metadata": {},
   "outputs": [],
   "source": []
  },
  {
   "cell_type": "code",
   "execution_count": null,
   "metadata": {},
   "outputs": [],
   "source": []
  },
  {
   "cell_type": "code",
   "execution_count": null,
   "metadata": {},
   "outputs": [],
   "source": []
  },
  {
   "cell_type": "code",
   "execution_count": null,
   "metadata": {},
   "outputs": [],
   "source": []
  },
  {
   "cell_type": "code",
   "execution_count": null,
   "metadata": {},
   "outputs": [],
   "source": []
  },
  {
   "cell_type": "code",
   "execution_count": null,
   "metadata": {},
   "outputs": [],
   "source": []
  },
  {
   "cell_type": "code",
   "execution_count": null,
   "metadata": {},
   "outputs": [],
   "source": []
  },
  {
   "cell_type": "markdown",
   "metadata": {},
   "source": [
    "### Probe C 4.2K"
   ]
  },
  {
   "cell_type": "code",
   "execution_count": 12,
   "metadata": {},
   "outputs": [],
   "source": [
    "ProbeC_4p2K = pd.read_csv(\"./../data/persistent_currents_in_lead/ProbeC_4.2K.dat\", \"\\t\")"
   ]
  },
  {
   "cell_type": "code",
   "execution_count": 13,
   "metadata": {},
   "outputs": [],
   "source": [
    "##ProbeC_4p2K"
   ]
  },
  {
   "cell_type": "code",
   "execution_count": 14,
   "metadata": {},
   "outputs": [],
   "source": [
    "ProbeC_4p2K = ProbeC_4p2K.drop(ProbeC_4p2K.index[:2])"
   ]
  },
  {
   "cell_type": "code",
   "execution_count": 15,
   "metadata": {},
   "outputs": [],
   "source": [
    "##ProbeC_4p2K"
   ]
  },
  {
   "cell_type": "code",
   "execution_count": 16,
   "metadata": {},
   "outputs": [],
   "source": [
    "shv_4p2K = ProbeC_4p2K['Shunt Voltage (V)'].values.astype(float)\n",
    "sv_4p2K = ProbeC_4p2K['Sample Voltage (V)'].values.astype(float)\n",
    "isv_4p2K = ProbeC_4p2K['Integrated Sample Voltage (V)'].values.astype(float)"
   ]
  },
  {
   "cell_type": "code",
   "execution_count": 17,
   "metadata": {},
   "outputs": [],
   "source": [
    "v_per_a = 0.5\n",
    "tesla_per_a = 0.018\n",
    "current = 1.002\n",
    "\n",
    "\n",
    "shv_4p2K = np.array(shv_4p2K)\n",
    "sv_4p2K = np.array(sv_4p2K)\n",
    "b_4p2K = (shv_4p2K/v_per_a)*tesla_per_a\n",
    "r_4p2K = sv_4p2K/current"
   ]
  },
  {
   "cell_type": "code",
   "execution_count": 18,
   "metadata": {},
   "outputs": [],
   "source": [
    "# plt.plot(shv_4p2K, isv_4p2K)\n",
    "# plt.title('Integrated Sample Voltage against Sample Voltage')\n",
    "# plt.xlabel('Shunt Voltage (V)') # Plot a label on x axis of Xlabel on graph\n",
    "# plt.ylabel('Integrated Sample Voltage (V)') # Plot a label on x axis of Xlabel on graph\n",
    "\n",
    "# plt.show()"
   ]
  },
  {
   "cell_type": "code",
   "execution_count": 19,
   "metadata": {
    "scrolled": true
   },
   "outputs": [
    {
     "data": {
      "image/png": "[encoded data removed]",
      "text/plain": [
       "<Figure size 432x288 with 1 Axes>"
      ]
     },
     "metadata": {
      "needs_background": "light"
     },
     "output_type": "display_data"
    }
   ],
   "source": [
    "plt.plot(b_4p2K, isv_4p2K)\n",
    "plt.title('Integrated Sample Voltage against Flux Density')\n",
    "plt.xlabel('Flux Density (T)') # Plot a label on x axis of Xlabel on graph\n",
    "plt.ylabel('Integrated Sample Voltage (V)') # Plot a label on x axis of Xlabel on graph\n",
    "\n",
    "plt.show()"
   ]
  },
  {
   "cell_type": "code",
   "execution_count": 20,
   "metadata": {},
   "outputs": [],
   "source": [
    "Bc_4p2K = 0.055"
   ]
  },
  {
   "cell_type": "code",
   "execution_count": 21,
   "metadata": {
    "scrolled": true
   },
   "outputs": [
    {
     "name": "stdout",
     "output_type": "stream",
     "text": [
      "875352187005.4243\n"
     ]
    }
   ],
   "source": [
    "I_4p2K = (L*Bc_4p2K)/mu\n",
    "J_4p2K = I_4p2K/(d*L)\n",
    "print(J_4p2K)"
   ]
  }
 ],
 "metadata": {
  "kernelspec": {
   "display_name": "Python 3",
   "language": "python",
   "name": "python3"
  },
  "language_info": {
   "codemirror_mode": {
    "name": "ipython",
    "version": 3
   },
   "file_extension": ".py",
   "mimetype": "text/x-python",
   "name": "python",
   "nbconvert_exporter": "python",
   "pygments_lexer": "ipython3",
   "version": "3.7.6"
  }
 },
 "nbformat": 4,
 "nbformat_minor": 5
}
